{
  "nbformat": 4,
  "nbformat_minor": 0,
  "metadata": {
    "colab": {
      "provenance": []
    },
    "kernelspec": {
      "name": "python3",
      "display_name": "Python 3"
    },
    "language_info": {
      "name": "python"
    }
  },
  "cells": [
    {
      "cell_type": "code",
      "execution_count": null,
      "metadata": {
        "id": "PY4NL_sF6LGA"
      },
      "outputs": [],
      "source": [
        "!pip install pandas==2.0.0"
      ]
    },
    {
      "cell_type": "code",
      "source": [
        "!pip install pandas==2.0.0\n",
        "!pip install polars==0.17.7"
      ],
      "metadata": {
        "id": "9WpPlCcA6QAS"
      },
      "execution_count": null,
      "outputs": []
    },
    {
      "cell_type": "code",
      "source": [
        "import pandas as pd \n",
        "import polars as pl\n",
        "\n",
        "import io\n",
        "import time\n",
        "import numpy as np\n",
        "import matplotlib.pyplot as plt"
      ],
      "metadata": {
        "id": "jTKaex1x6TgI"
      },
      "execution_count": 2,
      "outputs": []
    },
    {
      "cell_type": "code",
      "source": [
        "pd.__version__"
      ],
      "metadata": {
        "colab": {
          "base_uri": "https://localhost:8080/",
          "height": 36
        },
        "id": "YyFmhtRoXThL",
        "outputId": "921934aa-dbd2-4ae0-e609-badb68ec8a24"
      },
      "execution_count": 3,
      "outputs": [
        {
          "output_type": "execute_result",
          "data": {
            "text/plain": [
              "'2.0.0'"
            ],
            "application/vnd.google.colaboratory.intrinsic+json": {
              "type": "string"
            }
          },
          "metadata": {},
          "execution_count": 3
        }
      ]
    },
    {
      "cell_type": "code",
      "source": [
        "pl.__version__"
      ],
      "metadata": {
        "colab": {
          "base_uri": "https://localhost:8080/",
          "height": 36
        },
        "id": "VoczZ1qSXV1s",
        "outputId": "dba99006-bb7f-42f8-f697-1cc3b9c521db"
      },
      "execution_count": 4,
      "outputs": [
        {
          "output_type": "execute_result",
          "data": {
            "text/plain": [
              "'0.17.7'"
            ],
            "application/vnd.google.colaboratory.intrinsic+json": {
              "type": "string"
            }
          },
          "metadata": {},
          "execution_count": 4
        }
      ]
    },
    {
      "cell_type": "code",
      "source": [
        "!pip install pandas==2.0.0\n",
        "!pip install polars==0.17.7\n",
        "import pandas as pd \n",
        "import polars as pl\n",
        "\n",
        "import io\n",
        "import time\n",
        "import numpy as np\n",
        "import matplotlib.pyplot as plt\n",
        "\n",
        "\n",
        "\n",
        "def create_dataframe(n_rows, library):\n",
        "  if library == 'pandas':\n",
        "    data = {\n",
        "      'name': np.random.choice(['Alice', 'Bob', 'Charlie', 'David', 'Eva'], n_rows),\n",
        "      'age': np.random.randint(18, 65, size=n_rows),\n",
        "      'city': np.random.choice(['New York', 'San Francisco', 'Los Angeles'], n_rows),\n",
        "      'income': np.random.normal(50000, 10000, size=n_rows),\n",
        "      'gender': np.random.choice(['Male', 'Female'], n_rows),\n",
        "      'is_married': np.random.choice([True, False], n_rows),\n",
        "      'children': np.random.randint(0, 5, size=n_rows),\n",
        "      'zip_code': np.random.randint(10000, 99999, size=n_rows),\n",
        "      'interest_rate': np.random.uniform(0, 0.1, size=n_rows),\n",
        "      'is_default': np.random.choice([True, False], n_rows)\n",
        "    }\n",
        "    return pd.DataFrame(data)\n",
        "\n",
        "  elif library == 'polars':\n",
        "    data = {\n",
        "      'name': np.random.choice(['Alice', 'Bob', 'Charlie', 'David', 'Eva'], n_rows).astype('str'),\n",
        "      'age': np.random.randint(18, 65, size=n_rows).astype('int'),\n",
        "      'city': np.random.choice(['New York', 'San Francisco', 'Los Angeles'], n_rows).astype('str'),\n",
        "      'income': np.random.normal(50000, 10000, size=n_rows).astype('float'),\n",
        "      'gender': np.random.choice(['Male', 'Female'], n_rows).astype('str'),\n",
        "      'is_married': np.random.choice([True, False], n_rows).astype('bool'),\n",
        "      'children': np.random.randint(0, 5, size=n_rows).astype('int'),\n",
        "      'zip_code': np.random.randint(10000, 99999, size=n_rows).astype('str'),\n",
        "      'interest_rate': np.random.uniform(0, 0.1, size=n_rows).astype('float'),\n",
        "      'is_default': np.random.choice([True, False], n_rows).astype('bool')\n",
        "    }\n",
        "    return pl.DataFrame(data)\n",
        "\n",
        "def save_dataframe_to_csv(df, file_name):\n",
        "  \"\"\"\n",
        "  Saves a Pandas or Polars DataFrame to a CSV file.\n",
        "  :param df: The DataFrame to save.\n",
        "  :param file_name: The name of the file to save to.\n",
        "  \"\"\"\n",
        "  if isinstance(df, pd.DataFrame):\n",
        "    df.to_csv(file_name)\n",
        "  elif isinstance(df, pl.DataFrame):\n",
        "    df.write_csv(file_name)\n",
        "\n",
        "def read_dataframe_from_csv(file_name, library):\n",
        "  \"\"\"\n",
        "  Reads a Pandas or Polars DataFrame from a CSV file.\n",
        "  :param file_name: The name of the CSV file to read from.\n",
        "  :param library: The library to use - 'pandas' or 'polars'.\n",
        "  :return: The DataFrame read from the CSV file.\n",
        "  \"\"\"\n",
        "  if library == 'pandas':\n",
        "    return pd.read_csv(file_name)\n",
        "  elif library == 'polars':\n",
        "    return pl.read_csv(file_name)\n",
        "\n",
        "def sort_dataframe(df, column_name, ascending=True):\n",
        "  \"\"\"\n",
        "  Sorts a Pandas or Polars DataFrame by the values in a given column.\n",
        "  :param df: The DataFrame to sort.\n",
        "  :param column_name: The name of the column to sort by.\n",
        "  :param ascending: Whether to sort in ascending or descending order. Default is ascending.\n",
        "  :return: The sorted DataFrame.\n",
        "  \"\"\"\n",
        "  if isinstance(df, pd.DataFrame):\n",
        "    return df.sort_values(by=column_name, ascending=ascending)\n",
        "  elif isinstance(df, pl.DataFrame):\n",
        "    return df.sort(column_name, descending=not ascending)\n",
        "\n",
        "def filter_dataframe(df, column, value):\n",
        "  \"\"\"\n",
        "  Filters a Pandas or Polars DataFrame based on a given condition.\n",
        "  :param df: The DataFrame to filter.\n",
        "  :param column: The column to filter on.\n",
        "  :param value: The value to filter on.\n",
        "  :return: The filtered DataFrame.\n",
        "  \"\"\"\n",
        "  if isinstance(df, pd.DataFrame):\n",
        "    return df[df[column] == value]\n",
        "  elif isinstance(df, pl.DataFrame):\n",
        "    return df.filter(pl.col(column) == value)\n",
        "\n",
        "def groupby_dataframe(df, column_name):\n",
        "  \"\"\"\n",
        "  Groups a Pandas or Polars DataFrame by a given column name.\n",
        "  :param df: The DataFrame to group.\n",
        "  :param column_name: The name of the column to group by.\n",
        "  :return: The grouped DataFrame.\n",
        "  \"\"\"\n",
        "  start_time = time.time()\n",
        "  result = df.groupby(column_name)\n",
        "  end_time = time.time()\n",
        "  return end_time - start_time\n",
        "  \n",
        "def compare_runtimes(pandas_times, polars_times):\n",
        "  \"\"\"\n",
        "  Compares runtimes of Pandas and Polars for various operations.\n",
        "  :param pandas_times: A dictionary containing the runtimes for various operations for Pandas.\n",
        "  :param polars_times: A dictionary containing the runtimes for various operations for Polars.\n",
        "  \"\"\"\n",
        "  fig, ax = plt.subplots(figsize=(12, 4))\n",
        "\n",
        "  # Setting the title and labels for the graph\n",
        "  ax.set_title(\"Comparison of Runtimes for Pandas and Polars\")\n",
        "  ax.set_xlabel(\"Operations\")\n",
        "  ax.set_ylabel(\"Time (Seconds)\")\n",
        "\n",
        "  # Creating a bar graph for Pandas and Polars runtimes\n",
        "  operations = pandas_times.keys()\n",
        "  num_operations = len(operations)\n",
        "  bar_width = 0.35\n",
        "  pandas_x = np.arange(num_operations)\n",
        "  polars_x = pandas_x + bar_width\n",
        "\n",
        "  pandas_y = list(pandas_times.values())\n",
        "  polars_y = list(polars_times.values())\n",
        "\n",
        "  pandas_bar = ax.bar(pandas_x, pandas_y, bar_width, color='tab:blue', label='Pandas')\n",
        "  polars_bar = ax.bar(polars_x, polars_y, bar_width, color='tab:orange', label='Polars')\n",
        "\n",
        "  # Setting the x-axis ticks and labels\n",
        "  ax.set_xticks(pandas_x + bar_width / 2)\n",
        "  ax.set_xticklabels(operations)\n",
        "\n",
        "  # Setting the y-axis limit as the maximum of the two maximum values of runtimes\n",
        "  ax.set_ylim(0, max(max(pandas_y), max(polars_y)) * 1.2)\n",
        "\n",
        "  # Adding values on top of the bars\n",
        "  for i, bars in enumerate(zip(pandas_bar, polars_bar)):\n",
        "    for bar in bars:\n",
        "      height = bar.get_height()\n",
        "      ax.annotate(f\"{height:.4f}\", xy=(bar.get_x() + bar.get_width() / 2, height),\n",
        "                  xytext=(0, 3), textcoords=\"offset points\", ha='center', va='bottom')\n",
        "\n",
        "  # Adding a legend to the graph\n",
        "  ax.legend()\n",
        "\n",
        "  # Displaying the graph\n",
        "  plt.show()"
      ],
      "metadata": {
        "id": "GkMueVAMdHNm"
      },
      "execution_count": 63,
      "outputs": []
    },
    {
      "cell_type": "code",
      "source": [
        "pandas_times = {'Create': 0.0, 'Save': 0.0, 'Read': 0.0, 'Sort': 0.0, 'Filter': 0.0, 'GroupBy': 0.0}\n",
        "polars_times = {'Create': 0.0, 'Save': 0.0, 'Read': 0.0, 'Sort': 0.0, 'Filter': 0.0, 'GroupBy': 0.0}\n",
        "\n",
        "n_rows = 1000000\n",
        "file_name_pan = 'data_pandas.csv'\n",
        "file_name_pol = 'data_polar.csv'"
      ],
      "metadata": {
        "id": "5tMJ5m90dHJE"
      },
      "execution_count": 30,
      "outputs": []
    },
    {
      "cell_type": "code",
      "source": [
        "# Creating DataFrames\n",
        "start_time = time.time()\n",
        "df_pandas = create_dataframe(n_rows, 'pandas')\n",
        "pandas_times['Create'] = time.time() - start_time\n",
        "\n",
        "start_time = time.time()\n",
        "df_polars = create_dataframe(n_rows, 'polars')\n",
        "polars_times['Create'] = time.time() - start_time"
      ],
      "metadata": {
        "id": "eYLBnjp2dHG6"
      },
      "execution_count": 31,
      "outputs": []
    },
    {
      "cell_type": "code",
      "source": [
        "# Saving DataFrames\n",
        "start_time = time.time()\n",
        "save_dataframe_to_csv(df_pandas, file_name_pan)\n",
        "pandas_times['Save'] = time.time() - start_time\n",
        "\n",
        "start_time = time.time()\n",
        "save_dataframe_to_csv(df_polars, file_name_pol)\n",
        "polars_times['Save'] = time.time() - start_time"
      ],
      "metadata": {
        "id": "46WP16H_dHEs"
      },
      "execution_count": 32,
      "outputs": []
    },
    {
      "cell_type": "code",
      "source": [
        "# Reading DataFrames\n",
        "start_time = time.time()\n",
        "df_pandas = read_dataframe_from_csv(file_name_pan, 'pandas')\n",
        "pandas_times['Read'] = time.time() - start_time\n",
        "\n",
        "start_time = time.time()\n",
        "df_polars = read_dataframe_from_csv(file_name_pol, 'polars')\n",
        "polars_times['Read'] = time.time() - start_time"
      ],
      "metadata": {
        "id": "9GSGZjC5dG-K"
      },
      "execution_count": 33,
      "outputs": []
    },
    {
      "cell_type": "code",
      "source": [
        "# Sorting DataFrames\n",
        "start_time = time.time()\n",
        "sort_dataframe(df_pandas, 'gender', ascending=True)\n",
        "pandas_times['Sort'] = time.time() - start_time\n",
        "\n",
        "start_time = time.time()\n",
        "sort_dataframe(df_polars, 'gender', ascending=True)\n",
        "polars_times['Sort'] = time.time() - start_time"
      ],
      "metadata": {
        "id": "g0R_WPSidG8C"
      },
      "execution_count": 34,
      "outputs": []
    },
    {
      "cell_type": "code",
      "source": [
        "# Filtering DataFrames\n",
        "start_time = time.time()\n",
        "filter_dataframe(df_pandas, 'gender', 'Male')\n",
        "pandas_times['Filter'] = time.time() - start_time\n",
        "\n",
        "start_time = time.time()\n",
        "filter_dataframe(df_polars, 'gender', 'Male')\n",
        "polars_times['Filter'] = time.time() - start_time"
      ],
      "metadata": {
        "id": "knS-uxgAdG6D"
      },
      "execution_count": 35,
      "outputs": []
    },
    {
      "cell_type": "code",
      "source": [
        "pandas_times['GroupBy'] = groupby_dataframe(df_pandas, 'zip_code')\n",
        "polars_times['GroupBy'] = groupby_dataframe(df_polars, 'zip_code')"
      ],
      "metadata": {
        "id": "Pqf3PvOVZVpp"
      },
      "execution_count": 36,
      "outputs": []
    },
    {
      "cell_type": "code",
      "source": [
        "# Comparing runtimes\n",
        "compare_runtimes(pandas_times, polars_times)"
      ],
      "metadata": {
        "colab": {
          "base_uri": "https://localhost:8080/",
          "height": 410
        },
        "id": "927A3BeGzrSt",
        "outputId": "70157c20-6f4a-4bf5-d6e3-63544e0ce2c9"
      },
      "execution_count": 65,
      "outputs": [
        {
          "output_type": "display_data",
          "data": {
            "text/plain": [
              "<Figure size 1200x400 with 1 Axes>"
            ],
            "image/png": "[encoded data removed]"
          },
          "metadata": {}
        }
      ]
    },
    {
      "cell_type": "code",
      "source": [],
      "metadata": {
        "id": "QkLG6sWYdG3y"
      },
      "execution_count": null,
      "outputs": []
    },
    {
      "cell_type": "code",
      "source": [],
      "metadata": {
        "id": "sSI61C0rSGWj"
      },
      "execution_count": null,
      "outputs": []
    },
    {
      "cell_type": "code",
      "source": [],
      "metadata": {
        "id": "jfniMApXSGUS"
      },
      "execution_count": null,
      "outputs": []
    },
    {
      "cell_type": "code",
      "source": [],
      "metadata": {
        "id": "aP7XSXOWSGSU"
      },
      "execution_count": null,
      "outputs": []
    }
  ]
}